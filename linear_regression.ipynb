{
 "cells": [
  {
   "cell_type": "code",
   "execution_count": 3,
   "metadata": {},
   "outputs": [],
   "source": [
    "from sklearn import datasets\n",
    "from sklearn.model_selection import train_test_split\n",
    "from sklearn.linear_model import LinearRegression\n",
    "from sklearn.metrics import mean_squared_error\n",
    "from sklearn.svm import SVR\n",
    "from sklearn.tree import DecisionTreeRegressor\n",
    "import matplotlib.pyplot as plt\n",
    "import numpy as np\n",
    "import pandas as pd"
   ]
  },
  {
   "cell_type": "code",
   "execution_count": 20,
   "metadata": {},
   "outputs": [
    {
     "data": {
      "text/plain": [
       "<AxesSubplot:xlabel='encoded_category_1', ylabel='price'>"
      ]
     },
     "execution_count": 20,
     "metadata": {},
     "output_type": "execute_result"
    },
    {
     "data": {
      "image/png": "[encoded data removed]",
      "text/plain": [
       "<Figure size 432x288 with 1 Axes>"
      ]
     },
     "metadata": {
      "needs_background": "light"
     },
     "output_type": "display_data"
    }
   ],
   "source": [
    "\n",
    "df = pd.read_csv('facebook_cleaned_tabular_data.csv')\n",
    "\n",
    "# facebook_csv.shape\n",
    "df.plot.scatter('encoded_category_1', 'price')"
   ]
  },
  {
   "cell_type": "code",
   "execution_count": 21,
   "metadata": {},
   "outputs": [
    {
     "data": {
      "text/html": [
       "<div>\n",
       "<style scoped>\n",
       "    .dataframe tbody tr th:only-of-type {\n",
       "        vertical-align: middle;\n",
       "    }\n",
       "\n",
       "    .dataframe tbody tr th {\n",
       "        vertical-align: top;\n",
       "    }\n",
       "\n",
       "    .dataframe thead th {\n",
       "        text-align: right;\n",
       "    }\n",
       "</style>\n",
       "<table border=\"1\" class=\"dataframe\">\n",
       "  <thead>\n",
       "    <tr style=\"text-align: right;\">\n",
       "      <th></th>\n",
       "      <th>price</th>\n",
       "      <th>encoded_category_1</th>\n",
       "      <th>encoded_category_2</th>\n",
       "      <th>encoded_category_3</th>\n",
       "      <th>town_encoded</th>\n",
       "      <th>county_encoded</th>\n",
       "    </tr>\n",
       "  </thead>\n",
       "  <tbody>\n",
       "    <tr>\n",
       "      <th>0</th>\n",
       "      <td>5.0</td>\n",
       "      <td>6</td>\n",
       "      <td>22</td>\n",
       "      <td>208</td>\n",
       "      <td>1565</td>\n",
       "      <td>6</td>\n",
       "    </tr>\n",
       "    <tr>\n",
       "      <th>1</th>\n",
       "      <td>20.0</td>\n",
       "      <td>6</td>\n",
       "      <td>73</td>\n",
       "      <td>246</td>\n",
       "      <td>764</td>\n",
       "      <td>46</td>\n",
       "    </tr>\n",
       "    <tr>\n",
       "      <th>2</th>\n",
       "      <td>20.0</td>\n",
       "      <td>6</td>\n",
       "      <td>39</td>\n",
       "      <td>271</td>\n",
       "      <td>1282</td>\n",
       "      <td>52</td>\n",
       "    </tr>\n",
       "    <tr>\n",
       "      <th>3</th>\n",
       "      <td>115.0</td>\n",
       "      <td>6</td>\n",
       "      <td>22</td>\n",
       "      <td>225</td>\n",
       "      <td>1169</td>\n",
       "      <td>78</td>\n",
       "    </tr>\n",
       "    <tr>\n",
       "      <th>4</th>\n",
       "      <td>450.0</td>\n",
       "      <td>6</td>\n",
       "      <td>22</td>\n",
       "      <td>298</td>\n",
       "      <td>440</td>\n",
       "      <td>54</td>\n",
       "    </tr>\n",
       "    <tr>\n",
       "      <th>...</th>\n",
       "      <td>...</td>\n",
       "      <td>...</td>\n",
       "      <td>...</td>\n",
       "      <td>...</td>\n",
       "      <td>...</td>\n",
       "      <td>...</td>\n",
       "    </tr>\n",
       "    <tr>\n",
       "      <th>7115</th>\n",
       "      <td>260.0</td>\n",
       "      <td>12</td>\n",
       "      <td>19</td>\n",
       "      <td>277</td>\n",
       "      <td>10</td>\n",
       "      <td>93</td>\n",
       "    </tr>\n",
       "    <tr>\n",
       "      <th>7116</th>\n",
       "      <td>235.0</td>\n",
       "      <td>12</td>\n",
       "      <td>19</td>\n",
       "      <td>277</td>\n",
       "      <td>10</td>\n",
       "      <td>93</td>\n",
       "    </tr>\n",
       "    <tr>\n",
       "      <th>7117</th>\n",
       "      <td>250.0</td>\n",
       "      <td>12</td>\n",
       "      <td>76</td>\n",
       "      <td>267</td>\n",
       "      <td>989</td>\n",
       "      <td>2</td>\n",
       "    </tr>\n",
       "    <tr>\n",
       "      <th>7118</th>\n",
       "      <td>30.0</td>\n",
       "      <td>12</td>\n",
       "      <td>103</td>\n",
       "      <td>266</td>\n",
       "      <td>298</td>\n",
       "      <td>18</td>\n",
       "    </tr>\n",
       "    <tr>\n",
       "      <th>7119</th>\n",
       "      <td>450.0</td>\n",
       "      <td>12</td>\n",
       "      <td>36</td>\n",
       "      <td>123</td>\n",
       "      <td>1135</td>\n",
       "      <td>28</td>\n",
       "    </tr>\n",
       "  </tbody>\n",
       "</table>\n",
       "<p>7120 rows × 6 columns</p>\n",
       "</div>"
      ],
      "text/plain": [
       "      price  encoded_category_1  encoded_category_2  encoded_category_3  \\\n",
       "0       5.0                   6                  22                 208   \n",
       "1      20.0                   6                  73                 246   \n",
       "2      20.0                   6                  39                 271   \n",
       "3     115.0                   6                  22                 225   \n",
       "4     450.0                   6                  22                 298   \n",
       "...     ...                 ...                 ...                 ...   \n",
       "7115  260.0                  12                  19                 277   \n",
       "7116  235.0                  12                  19                 277   \n",
       "7117  250.0                  12                  76                 267   \n",
       "7118   30.0                  12                 103                 266   \n",
       "7119  450.0                  12                  36                 123   \n",
       "\n",
       "      town_encoded  county_encoded  \n",
       "0             1565               6  \n",
       "1              764              46  \n",
       "2             1282              52  \n",
       "3             1169              78  \n",
       "4              440              54  \n",
       "...            ...             ...  \n",
       "7115            10              93  \n",
       "7116            10              93  \n",
       "7117           989               2  \n",
       "7118           298              18  \n",
       "7119          1135              28  \n",
       "\n",
       "[7120 rows x 6 columns]"
      ]
     },
     "execution_count": 21,
     "metadata": {},
     "output_type": "execute_result"
    }
   ],
   "source": [
    "df"
   ]
  },
  {
   "cell_type": "code",
   "execution_count": 25,
   "metadata": {},
   "outputs": [],
   "source": [
    "X = df[['encoded_category_1', 'encoded_category_2', 'encoded_category_3', 'town_encoded', 'county_encoded']]\n",
    "y = df['price']"
   ]
  },
  {
   "cell_type": "code",
   "execution_count": 26,
   "metadata": {},
   "outputs": [
    {
     "name": "stdout",
     "output_type": "stream",
     "text": [
      "Number of samples in:\n",
      "    Training: 5696\n",
      "    Testing: 1424\n"
     ]
    }
   ],
   "source": [
    "X_train, X_test, y_train, y_test = train_test_split(X, y, test_size=0.2, random_state=10)\n",
    "\n",
    "print(\"Number of samples in:\")\n",
    "print(f\"    Training: {len(y_train)}\")\n",
    "print(f\"    Testing: {len(y_test)}\")\n",
    "\n"
   ]
  },
  {
   "cell_type": "code",
   "execution_count": 27,
   "metadata": {},
   "outputs": [
    {
     "data": {
      "text/plain": [
       "LinearRegression()"
      ]
     },
     "execution_count": 27,
     "metadata": {},
     "output_type": "execute_result"
    }
   ],
   "source": [
    "clf = LinearRegression()\n",
    "clf.fit(X_train, y_train)"
   ]
  },
  {
   "cell_type": "code",
   "execution_count": 28,
   "metadata": {},
   "outputs": [
    {
     "data": {
      "text/plain": [
       "array([182.69602566, 130.03253795, 273.79814345, ..., 186.08184171,\n",
       "       172.731611  , 224.25974958])"
      ]
     },
     "execution_count": 28,
     "metadata": {},
     "output_type": "execute_result"
    }
   ],
   "source": [
    "clf.predict(X_test)"
   ]
  }
 ],
 "metadata": {
  "interpreter": {
   "hash": "916dbcbb3f70747c44a77c7bcd40155683ae19c65e1c03b4aa3499c5328201f1"
  },
  "kernelspec": {
   "display_name": "Python 3.8.10 64-bit",
   "language": "python",
   "name": "python3"
  },
  "language_info": {
   "codemirror_mode": {
    "name": "ipython",
    "version": 3
   },
   "file_extension": ".py",
   "mimetype": "text/x-python",
   "name": "python",
   "nbconvert_exporter": "python",
   "pygments_lexer": "ipython3",
   "version": "3.8.10"
  },
  "orig_nbformat": 4
 },
 "nbformat": 4,
 "nbformat_minor": 2
}
