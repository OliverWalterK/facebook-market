{
 "cells": [
  {
   "cell_type": "code",
   "execution_count": 51,
   "metadata": {},
   "outputs": [],
   "source": [
    "from sqlalchemy import create_engine, inspect\n",
    "import creds\n",
    "import pandas as pd\n",
    "#For ML, we need:\n",
    "from sklearn.feature_extraction.text import CountVectorizer\n",
    "from sklearn.model_selection import cross_val_score, cross_val_predict\n",
    "from sklearn import metrics\n",
    "from sklearn.model_selection import train_test_split\n",
    "from sklearn.linear_model import LogisticRegression"
   ]
  },
  {
   "cell_type": "code",
   "execution_count": 52,
   "metadata": {},
   "outputs": [],
   "source": [
    "host = creds.host\n",
    "password = creds.password\n",
    "port = creds.port\n",
    "user = creds.user\n",
    "database = creds.database\n",
    "api_type = creds.api_type\n",
    "engine = create_engine(f'postgresql+{api_type}://{user}:{password}@{host}:{port}/{database}')\n",
    "# engine.connect()"
   ]
  },
  {
   "cell_type": "code",
   "execution_count": 53,
   "metadata": {},
   "outputs": [],
   "source": [
    "df = pd.read_sql_table('products', engine)\n",
    "df.drop(['create_time', 'page_id'], axis=1, inplace=True)"
   ]
  },
  {
   "cell_type": "code",
   "execution_count": 68,
   "metadata": {},
   "outputs": [],
   "source": [
    "### Cleaning up the price column in the dataframe.\n",
    "# Removes all rows which have \"N/A\" in the price column.\n",
    "df = df[df['price'] != 'N/A']\n",
    "# df = df[df['product_name'] != 'N/A']\n",
    "df['price'] = df['price'].str.strip('£')\n",
    "df['price'] = df['price'].str.replace(',', '')\n",
    "df['price'] = df['price'].astype('float64')"
   ]
  },
  {
   "cell_type": "code",
   "execution_count": 69,
   "metadata": {},
   "outputs": [],
   "source": [
    "cvec = CountVectorizer()\n",
    "X = df['product_name']\n",
    "y = df['price']\n",
    "X_train, X_test, y_train, y_test = train_test_split(X, y, test_size=0.33)"
   ]
  },
  {
   "cell_type": "code",
   "execution_count": 70,
   "metadata": {},
   "outputs": [],
   "source": [
    "cvec = CountVectorizer(stop_words='english').fit(X_train)\n",
    "df_train = pd.DataFrame(cvec.transform(X_train).todense(),columns=cvec.get_feature_names_out())"
   ]
  },
  {
   "cell_type": "code",
   "execution_count": 71,
   "metadata": {},
   "outputs": [
    {
     "name": "stdout",
     "output_type": "stream",
     "text": [
      "(4794, 8280)\n",
      "(4794,)\n",
      "(2362, 8280)\n",
      "(2362,)\n"
     ]
    }
   ],
   "source": [
    "df_test = pd.DataFrame(cvec.transform(X_test).todense(),columns=cvec.get_feature_names_out())\n",
    "print(df_train.shape)\n",
    "print(y_train.shape)\n",
    "print(df_test.shape)\n",
    "print(y_test.shape)"
   ]
  },
  {
   "cell_type": "code",
   "execution_count": null,
   "metadata": {},
   "outputs": [],
   "source": []
  },
  {
   "cell_type": "code",
   "execution_count": 66,
   "metadata": {},
   "outputs": [
    {
     "data": {
      "text/html": [
       "<div>\n",
       "<style scoped>\n",
       "    .dataframe tbody tr th:only-of-type {\n",
       "        vertical-align: middle;\n",
       "    }\n",
       "\n",
       "    .dataframe tbody tr th {\n",
       "        vertical-align: top;\n",
       "    }\n",
       "\n",
       "    .dataframe thead th {\n",
       "        text-align: right;\n",
       "    }\n",
       "</style>\n",
       "<table border=\"1\" class=\"dataframe\">\n",
       "  <thead>\n",
       "    <tr style=\"text-align: right;\">\n",
       "      <th></th>\n",
       "      <th>id</th>\n",
       "      <th>product_name</th>\n",
       "      <th>category</th>\n",
       "      <th>product_description</th>\n",
       "      <th>price</th>\n",
       "      <th>location</th>\n",
       "    </tr>\n",
       "  </thead>\n",
       "  <tbody>\n",
       "    <tr>\n",
       "      <th>1</th>\n",
       "      <td>243809c0-9cfc-4486-ad12-3b7a16605ba9</td>\n",
       "      <td>Mirror wall art | in Wokingham, Berkshire | Gu...</td>\n",
       "      <td>Home &amp; Garden / Dining, Living Room Furniture ...</td>\n",
       "      <td>Mirror wall art. Posted by Nisha in Dining, Li...</td>\n",
       "      <td>£5.00</td>\n",
       "      <td>Wokingham, Berkshire</td>\n",
       "    </tr>\n",
       "    <tr>\n",
       "      <th>2</th>\n",
       "      <td>1c58d3f9-8b93-47ea-9415-204fcc2a22e6</td>\n",
       "      <td>Stainless Steel Food Steamer | in Inverness, H...</td>\n",
       "      <td>Home &amp; Garden / Other Household Goods</td>\n",
       "      <td>Morphy Richard’s (model no 48755)Stainless ste...</td>\n",
       "      <td>£20.00</td>\n",
       "      <td>Inverness, Highland</td>\n",
       "    </tr>\n",
       "    <tr>\n",
       "      <th>3</th>\n",
       "      <td>860673f1-57f6-47ba-8d2f-13f9e05b8f9a</td>\n",
       "      <td>Sun loungers | in Skegness, Lincolnshire | Gum...</td>\n",
       "      <td>Home &amp; Garden / Garden &amp; Patio / Outdoor Setti...</td>\n",
       "      <td>I have 2 of these - collection only as I don’t...</td>\n",
       "      <td>£20.00</td>\n",
       "      <td>Skegness, Lincolnshire</td>\n",
       "    </tr>\n",
       "    <tr>\n",
       "      <th>4</th>\n",
       "      <td>59948726-29be-4b35-ade5-bb2fd7331856</td>\n",
       "      <td>Coffee side table from Ammunition ammo box hai...</td>\n",
       "      <td>Home &amp; Garden / Dining, Living Room Furniture ...</td>\n",
       "      <td>Great reclaimed army ammunition box used as co...</td>\n",
       "      <td>£115.00</td>\n",
       "      <td>Radstock, Somerset</td>\n",
       "    </tr>\n",
       "    <tr>\n",
       "      <th>5</th>\n",
       "      <td>16dbc860-696e-4cda-93f6-4dd4926573fb</td>\n",
       "      <td>Modern Shannon Sofa for sale at low cost | in ...</td>\n",
       "      <td>Home &amp; Garden / Dining, Living Room Furniture ...</td>\n",
       "      <td>New Design Shannon Corner sofa  5 Seater Avail...</td>\n",
       "      <td>£450.00</td>\n",
       "      <td>Delph, Manchester</td>\n",
       "    </tr>\n",
       "    <tr>\n",
       "      <th>6</th>\n",
       "      <td>5707be4f-49d9-4feb-b2c8-aa0868405c65</td>\n",
       "      <td>Spotlights | in Newent, Gloucestershire | Gumtree</td>\n",
       "      <td>Home &amp; Garden / Other Household Goods</td>\n",
       "      <td>New in box not needed Spotlights . Posted by s...</td>\n",
       "      <td>£9.00</td>\n",
       "      <td>Newent, Gloucestershire</td>\n",
       "    </tr>\n",
       "    <tr>\n",
       "      <th>7</th>\n",
       "      <td>d2244a7b-aef4-4495-aff7-0c55bf512d6e</td>\n",
       "      <td>💥💥White Wardrobe💥💥Brand new Wardrobe For sale ...</td>\n",
       "      <td>Home &amp; Garden / Beds &amp; Bedroom Furniture / War...</td>\n",
       "      <td>🌈🌈Call Dustin 0208-0049437\\r🌈🌈Same Day Or any...</td>\n",
       "      <td>£419.00</td>\n",
       "      <td>Huddersfield, West Yorkshire</td>\n",
       "    </tr>\n",
       "    <tr>\n",
       "      <th>8</th>\n",
       "      <td>485edc04-7bbc-430a-9430-f05a77f5a917</td>\n",
       "      <td>Letter cage | in Newent, Gloucestershire | Gum...</td>\n",
       "      <td>Home &amp; Garden / Other Household Goods</td>\n",
       "      <td>Selling for family member brand new too big fo...</td>\n",
       "      <td>£10.00</td>\n",
       "      <td>Newent, Gloucestershire</td>\n",
       "    </tr>\n",
       "    <tr>\n",
       "      <th>9</th>\n",
       "      <td>7e538445-c75e-4802-8dc5-a9083a802278</td>\n",
       "      <td>Double Pine Bed Frame | in Lytham St Annes, La...</td>\n",
       "      <td>Home &amp; Garden / Beds &amp; Bedroom Furniture / Dou...</td>\n",
       "      <td>Double Pine bed frame good condition. Reasonab...</td>\n",
       "      <td>£50.00</td>\n",
       "      <td>Lytham St Annes, Lancashire</td>\n",
       "    </tr>\n",
       "    <tr>\n",
       "      <th>10</th>\n",
       "      <td>1a64843d-72f3-4141-946f-fa9b978fe755</td>\n",
       "      <td>Solid pine dining table and chairs | in West K...</td>\n",
       "      <td>Home &amp; Garden / Dining, Living Room Furniture ...</td>\n",
       "      <td>Distressed solid pine table and 4 chairs In ex...</td>\n",
       "      <td>£200.00</td>\n",
       "      <td>West Kilbride, North Ayrshire</td>\n",
       "    </tr>\n",
       "  </tbody>\n",
       "</table>\n",
       "</div>"
      ],
      "text/plain": [
       "                                      id  \\\n",
       "1   243809c0-9cfc-4486-ad12-3b7a16605ba9   \n",
       "2   1c58d3f9-8b93-47ea-9415-204fcc2a22e6   \n",
       "3   860673f1-57f6-47ba-8d2f-13f9e05b8f9a   \n",
       "4   59948726-29be-4b35-ade5-bb2fd7331856   \n",
       "5   16dbc860-696e-4cda-93f6-4dd4926573fb   \n",
       "6   5707be4f-49d9-4feb-b2c8-aa0868405c65   \n",
       "7   d2244a7b-aef4-4495-aff7-0c55bf512d6e   \n",
       "8   485edc04-7bbc-430a-9430-f05a77f5a917   \n",
       "9   7e538445-c75e-4802-8dc5-a9083a802278   \n",
       "10  1a64843d-72f3-4141-946f-fa9b978fe755   \n",
       "\n",
       "                                         product_name  \\\n",
       "1   Mirror wall art | in Wokingham, Berkshire | Gu...   \n",
       "2   Stainless Steel Food Steamer | in Inverness, H...   \n",
       "3   Sun loungers | in Skegness, Lincolnshire | Gum...   \n",
       "4   Coffee side table from Ammunition ammo box hai...   \n",
       "5   Modern Shannon Sofa for sale at low cost | in ...   \n",
       "6   Spotlights | in Newent, Gloucestershire | Gumtree   \n",
       "7   💥💥White Wardrobe💥💥Brand new Wardrobe For sale ...   \n",
       "8   Letter cage | in Newent, Gloucestershire | Gum...   \n",
       "9   Double Pine Bed Frame | in Lytham St Annes, La...   \n",
       "10  Solid pine dining table and chairs | in West K...   \n",
       "\n",
       "                                             category  \\\n",
       "1   Home & Garden / Dining, Living Room Furniture ...   \n",
       "2               Home & Garden / Other Household Goods   \n",
       "3   Home & Garden / Garden & Patio / Outdoor Setti...   \n",
       "4   Home & Garden / Dining, Living Room Furniture ...   \n",
       "5   Home & Garden / Dining, Living Room Furniture ...   \n",
       "6               Home & Garden / Other Household Goods   \n",
       "7   Home & Garden / Beds & Bedroom Furniture / War...   \n",
       "8               Home & Garden / Other Household Goods   \n",
       "9   Home & Garden / Beds & Bedroom Furniture / Dou...   \n",
       "10  Home & Garden / Dining, Living Room Furniture ...   \n",
       "\n",
       "                                  product_description    price  \\\n",
       "1   Mirror wall art. Posted by Nisha in Dining, Li...    £5.00   \n",
       "2   Morphy Richard’s (model no 48755)Stainless ste...   £20.00   \n",
       "3   I have 2 of these - collection only as I don’t...   £20.00   \n",
       "4   Great reclaimed army ammunition box used as co...  £115.00   \n",
       "5   New Design Shannon Corner sofa  5 Seater Avail...  £450.00   \n",
       "6   New in box not needed Spotlights . Posted by s...    £9.00   \n",
       "7    🌈🌈Call Dustin 0208-0049437\\r🌈🌈Same Day Or any...  £419.00   \n",
       "8   Selling for family member brand new too big fo...   £10.00   \n",
       "9   Double Pine bed frame good condition. Reasonab...   £50.00   \n",
       "10  Distressed solid pine table and 4 chairs In ex...  £200.00   \n",
       "\n",
       "                         location  \n",
       "1            Wokingham, Berkshire  \n",
       "2             Inverness, Highland  \n",
       "3          Skegness, Lincolnshire  \n",
       "4              Radstock, Somerset  \n",
       "5               Delph, Manchester  \n",
       "6         Newent, Gloucestershire  \n",
       "7    Huddersfield, West Yorkshire  \n",
       "8         Newent, Gloucestershire  \n",
       "9     Lytham St Annes, Lancashire  \n",
       "10  West Kilbride, North Ayrshire  "
      ]
     },
     "execution_count": 66,
     "metadata": {},
     "output_type": "execute_result"
    }
   ],
   "source": [
    "df.head(10)"
   ]
  },
  {
   "cell_type": "code",
   "execution_count": 67,
   "metadata": {},
   "outputs": [
    {
     "name": "stderr",
     "output_type": "stream",
     "text": [
      "/home/oliver/.local/lib/python3.8/site-packages/sklearn/linear_model/_logistic.py:814: ConvergenceWarning: lbfgs failed to converge (status=1):\n",
      "STOP: TOTAL NO. of ITERATIONS REACHED LIMIT.\n",
      "\n",
      "Increase the number of iterations (max_iter) or scale the data as shown in:\n",
      "    https://scikit-learn.org/stable/modules/preprocessing.html\n",
      "Please also refer to the documentation for alternative solver options:\n",
      "    https://scikit-learn.org/stable/modules/linear_model.html#logistic-regression\n",
      "  n_iter_i = _check_optimize_result(\n"
     ]
    },
    {
     "data": {
      "text/plain": [
       "0.12320067739204064"
      ]
     },
     "execution_count": 67,
     "metadata": {},
     "output_type": "execute_result"
    }
   ],
   "source": [
    "lr = LogisticRegression()\n",
    "lr.fit(df_train, y_train)\n",
    "lr.score(df_test, y_test)"
   ]
  }
 ],
 "metadata": {
  "interpreter": {
   "hash": "916dbcbb3f70747c44a77c7bcd40155683ae19c65e1c03b4aa3499c5328201f1"
  },
  "kernelspec": {
   "display_name": "Python 3.8.10 64-bit",
   "language": "python",
   "name": "python3"
  },
  "language_info": {
   "codemirror_mode": {
    "name": "ipython",
    "version": 3
   },
   "file_extension": ".py",
   "mimetype": "text/x-python",
   "name": "python",
   "nbconvert_exporter": "python",
   "pygments_lexer": "ipython3",
   "version": "3.8.10"
  },
  "orig_nbformat": 4
 },
 "nbformat": 4,
 "nbformat_minor": 2
}
